{
  "nbformat": 4,
  "nbformat_minor": 0,
  "metadata": {
    "colab": {
      "provenance": [],
      "authorship_tag": "ABX9TyMgnQxD0NJbvczeHS8BzDLD",
      "include_colab_link": true
    },
    "kernelspec": {
      "name": "python3",
      "display_name": "Python 3"
    },
    "language_info": {
      "name": "python"
    }
  },
  "cells": [
    {
      "cell_type": "markdown",
      "metadata": {
        "id": "view-in-github",
        "colab_type": "text"
      },
      "source": [
        "<a href=\"https://colab.research.google.com/github/AzzamRd/fisika-komputasi1/blob/main/Perulangan.ipynb\" target=\"_parent\"><img src=\"https://colab.research.google.com/assets/colab-badge.svg\" alt=\"Open In Colab\"/></a>"
      ]
    },
    {
      "cell_type": "code",
      "execution_count": 23,
      "metadata": {
        "colab": {
          "base_uri": "https://localhost:8080/",
          "height": 0
        },
        "id": "ZnSfIWK46ERc",
        "outputId": "6fb7fcfd-4b9a-4416-e100-a69f884d01cd"
      },
      "outputs": [
        {
          "output_type": "stream",
          "name": "stdout",
          "text": [
            "Counter saat ini: 5 litter\n",
            "Counter saat ini: 4 litter\n",
            "Counter saat ini: 3 litter\n",
            "Counter saat ini: 2 litter\n",
            "Counter saat ini: 1 litter\n",
            "Counter saat ini: 0 litter\n",
            "Perulangan selesai!\n"
          ]
        }
      ],
      "source": [
        "#perulangan ada yang menggunakan while atau for\n",
        "#while untuk yang tidak terdefinisi\n",
        "#for untuk menggunakan yang terdefinisi\n",
        "\n",
        "air = 5\n",
        "\n",
        "while air >= 0:\n",
        "    # Cetak nilai counter saat ini\n",
        "    print(f\"Counter saat ini: {air} litter\")\n",
        "    # Tambah nilai counter dengan 1\n",
        "    air -= 1 # Bisa juga ditulis counter = counter + 1\n",
        "\n",
        "# Setelah perulangan selesai, cetak pesan berikut\n",
        "print(\"Perulangan selesai!\")"
      ]
    },
    {
      "cell_type": "code",
      "source": [
        "from re import A\n",
        "#membuat deret bilangan genap\n",
        "a = 0\n",
        "while a <10:\n",
        "  a += 1\n",
        "  if a % 2 == 0:\n",
        "      continue\n",
        "  print(f\"berikut adalah bilangan genap ke-{a}\")\n",
        "else:\n",
        "  print(\"selesai\")"
      ],
      "metadata": {
        "colab": {
          "base_uri": "https://localhost:8080/",
          "height": 0
        },
        "id": "5mU8kQLM9CJn",
        "outputId": "4043024c-7887-413f-a9f7-b19f14af8992"
      },
      "execution_count": 42,
      "outputs": [
        {
          "output_type": "stream",
          "name": "stdout",
          "text": [
            "berikut adalah bilangan genap ke-1\n",
            "berikut adalah bilangan genap ke-3\n",
            "berikut adalah bilangan genap ke-5\n",
            "berikut adalah bilangan genap ke-7\n",
            "berikut adalah bilangan genap ke-9\n",
            "selesai\n"
          ]
        }
      ]
    },
    {
      "cell_type": "code",
      "source": [
        "from re import A\n",
        "#membuat deret bilangan genap\n",
        "a = 0\n",
        "while a <10:\n",
        "  a += 2\n",
        "  if a % 2 == 1:\n",
        "      break\n",
        "  print(f\"berikut adalah bilangan genap ke-{a}\")\n",
        "else:\n",
        "  print(\"selesai\")"
      ],
      "metadata": {
        "colab": {
          "base_uri": "https://localhost:8080/",
          "height": 0
        },
        "id": "dvehlx12_VFZ",
        "outputId": "2c8d87b7-61f4-4000-f467-2e98d3f136df"
      },
      "execution_count": 46,
      "outputs": [
        {
          "output_type": "stream",
          "name": "stdout",
          "text": [
            "berikut adalah bilangan genap ke-2\n",
            "berikut adalah bilangan genap ke-4\n",
            "berikut adalah bilangan genap ke-6\n",
            "berikut adalah bilangan genap ke-8\n",
            "berikut adalah bilangan genap ke-10\n",
            "selesai\n"
          ]
        }
      ]
    },
    {
      "cell_type": "code",
      "source": [
        "from re import A\n",
        "#membuat deret bilangan genap\n",
        "a = 0\n",
        "while a <10:\n",
        "  a += 1\n",
        "  if a > 2 and a < 7 :\n",
        "      continue\n",
        "  print(f\"berikut adalah bilangan genap ke-{a}\")\n",
        "else:\n",
        "  print(\"selesai\")"
      ],
      "metadata": {
        "id": "wPzkIdhH_1Ne"
      },
      "execution_count": null,
      "outputs": []
    },
    {
      "cell_type": "code",
      "source": [
        "for i in range(10):\n",
        "    print(f\"Perulangan ke-{i}\")"
      ],
      "metadata": {
        "colab": {
          "base_uri": "https://localhost:8080/",
          "height": 0
        },
        "id": "Iy1gIep-AGhb",
        "outputId": "d1808416-5895-4be6-ec74-bd336ffee4e8"
      },
      "execution_count": 50,
      "outputs": [
        {
          "output_type": "stream",
          "name": "stdout",
          "text": [
            "Perulangan ke-0\n",
            "Perulangan ke-1\n",
            "Perulangan ke-2\n",
            "Perulangan ke-3\n",
            "Perulangan ke-4\n",
            "Perulangan ke-5\n",
            "Perulangan ke-6\n",
            "Perulangan ke-7\n",
            "Perulangan ke-8\n",
            "Perulangan ke-9\n"
          ]
        }
      ]
    },
    {
      "cell_type": "code",
      "source": [
        "angka = [1,26,7,8,9,10]\n",
        "sorte = sorted(angka)\n",
        "print(sorte)\n",
        "for i in angka:\n",
        "  for l in sorte:\n",
        "    print(f\"Perulangan ke-{i},{l}\")"
      ],
      "metadata": {
        "colab": {
          "base_uri": "https://localhost:8080/",
          "height": 0
        },
        "id": "UwkbpgbwAfFO",
        "outputId": "4eb0fdb2-cd0d-4afd-d353-c8530519d402"
      },
      "execution_count": 71,
      "outputs": [
        {
          "output_type": "stream",
          "name": "stdout",
          "text": [
            "[1, 7, 8, 9, 10, 26]\n",
            "Perulangan ke-1,1\n",
            "Perulangan ke-1,7\n",
            "Perulangan ke-1,8\n",
            "Perulangan ke-1,9\n",
            "Perulangan ke-1,10\n",
            "Perulangan ke-1,26\n",
            "Perulangan ke-26,1\n",
            "Perulangan ke-26,7\n",
            "Perulangan ke-26,8\n",
            "Perulangan ke-26,9\n",
            "Perulangan ke-26,10\n",
            "Perulangan ke-26,26\n",
            "Perulangan ke-7,1\n",
            "Perulangan ke-7,7\n",
            "Perulangan ke-7,8\n",
            "Perulangan ke-7,9\n",
            "Perulangan ke-7,10\n",
            "Perulangan ke-7,26\n",
            "Perulangan ke-8,1\n",
            "Perulangan ke-8,7\n",
            "Perulangan ke-8,8\n",
            "Perulangan ke-8,9\n",
            "Perulangan ke-8,10\n",
            "Perulangan ke-8,26\n",
            "Perulangan ke-9,1\n",
            "Perulangan ke-9,7\n",
            "Perulangan ke-9,8\n",
            "Perulangan ke-9,9\n",
            "Perulangan ke-9,10\n",
            "Perulangan ke-9,26\n",
            "Perulangan ke-10,1\n",
            "Perulangan ke-10,7\n",
            "Perulangan ke-10,8\n",
            "Perulangan ke-10,9\n",
            "Perulangan ke-10,10\n",
            "Perulangan ke-10,26\n"
          ]
        }
      ]
    },
    {
      "cell_type": "code",
      "source": [
        "for i in range(0, 100, 10):\n",
        "  print(i)"
      ],
      "metadata": {
        "colab": {
          "base_uri": "https://localhost:8080/",
          "height": 0
        },
        "id": "ghRiDiU8CdGE",
        "outputId": "75347590-521c-449d-8d5c-a8c339dcf75d"
      },
      "execution_count": 70,
      "outputs": [
        {
          "output_type": "stream",
          "name": "stdout",
          "text": [
            "0\n",
            "10\n",
            "20\n",
            "30\n",
            "40\n",
            "50\n",
            "60\n",
            "70\n",
            "80\n",
            "90\n"
          ]
        }
      ]
    }
  ]
}