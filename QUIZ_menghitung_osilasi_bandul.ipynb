{
  "nbformat": 4,
  "nbformat_minor": 0,
  "metadata": {
    "colab": {
      "provenance": [],
      "authorship_tag": "ABX9TyNACgWamxJnkRU5cndC6vcW"
    },
    "kernelspec": {
      "name": "python3",
      "display_name": "Python 3"
    },
    "language_info": {
      "name": "python"
    }
  },
  "cells": [
    {
      "source": [
        "import math\n",
        "\n",
        "# Parameter yang diberikan\n",
        "A = 0.1  # amplitudo dalam meter\n",
        "m = 0.5  # massa benda dalam kg\n",
        "k = 10   # konstanta pegas dalam N/m\n",
        "g = 9.8  # percepatan grac=vitasi\n",
        "durasi_total = 5\n",
        "# Interval waktu dalam detik\n",
        "interval_waktu = 0.1\n",
        "# Menghitung jumlah langkah waktu\n",
        "jumlah_langkah = int(durasi_total / interval_waktu) + 1\n",
        "# Menghitung frekuensi sudut omega\n",
        "omega = (g / (k/m) )** 0.5  # omega pendulum\n",
        "\n",
        "# Waktu dalam detik (0 hingga 5 detik dengan interval 0.1 detik)\n",
        "t_values = [i * 0.1 for i in range(jumlah_langkah)]\n",
        "\n",
        "# Menghitung posisi x(t) untuk setiap t\n",
        "x_values = [A * math.cos(omega * t) for t in t_values]\n",
        "\n",
        "# Menampilkan hasil dalam format tabel\n",
        "print(\"t(s)\\t\\t x(m)\")\n",
        "for t, x in zip(t_values, x_values):\n",
        "    print(f\"{t:.1f}\\t\\t {x:.3f}\")"
      ],
      "cell_type": "code",
      "metadata": {
        "colab": {
          "base_uri": "https://localhost:8080/"
        },
        "id": "_JQXriNQzy_e",
        "outputId": "082a58b2-c794-4db3-ca8b-1e3aa7629c73"
      },
      "execution_count": 50,
      "outputs": [
        {
          "output_type": "stream",
          "name": "stdout",
          "text": [
            "t(s)\t\t x(m)\n",
            "0.0\t\t 0.100\n",
            "0.1\t\t 0.100\n",
            "0.2\t\t 0.099\n",
            "0.3\t\t 0.098\n",
            "0.4\t\t 0.096\n",
            "0.5\t\t 0.094\n",
            "0.6\t\t 0.091\n",
            "0.7\t\t 0.088\n",
            "0.8\t\t 0.085\n",
            "0.9\t\t 0.081\n",
            "1.0\t\t 0.076\n",
            "1.1\t\t 0.072\n",
            "1.2\t\t 0.067\n",
            "1.3\t\t 0.061\n",
            "1.4\t\t 0.056\n",
            "1.5\t\t 0.050\n",
            "1.6\t\t 0.044\n",
            "1.7\t\t 0.037\n",
            "1.8\t\t 0.031\n",
            "1.9\t\t 0.024\n",
            "2.0\t\t 0.017\n",
            "2.1\t\t 0.010\n",
            "2.2\t\t 0.003\n",
            "2.3\t\t -0.004\n",
            "2.4\t\t -0.011\n",
            "2.5\t\t -0.018\n",
            "2.6\t\t -0.025\n",
            "2.7\t\t -0.031\n",
            "2.8\t\t -0.038\n",
            "2.9\t\t -0.044\n",
            "3.0\t\t -0.050\n",
            "3.1\t\t -0.056\n",
            "3.2\t\t -0.062\n",
            "3.3\t\t -0.067\n",
            "3.4\t\t -0.072\n",
            "3.5\t\t -0.077\n",
            "3.6\t\t -0.081\n",
            "3.7\t\t -0.085\n",
            "3.8\t\t -0.089\n",
            "3.9\t\t -0.092\n",
            "4.0\t\t -0.094\n",
            "4.1\t\t -0.096\n",
            "4.2\t\t -0.098\n",
            "4.3\t\t -0.099\n",
            "4.4\t\t -0.100\n",
            "4.5\t\t -0.100\n",
            "4.6\t\t -0.100\n",
            "4.7\t\t -0.099\n",
            "4.8\t\t -0.098\n",
            "4.9\t\t -0.096\n",
            "5.0\t\t -0.094\n"
          ]
        }
      ]
    },
    {
      "cell_type": "code",
      "source": [
        "print(\"t(s)\\t\\t x(m)\")\n",
        "for t, x in zip(t_values, x_values):\n",
        "    print(f\"{t:.1f}\\t\\t {x:.3f}\")"
      ],
      "metadata": {
        "id": "hSZaa9tByO37"
      },
      "execution_count": null,
      "outputs": []
    }
  ]
}